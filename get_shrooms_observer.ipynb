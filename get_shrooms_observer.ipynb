{
 "cells": [
  {
   "cell_type": "code",
   "execution_count": 1,
   "metadata": {},
   "outputs": [],
   "source": [
    "import socket\n",
    "import socks\n",
    "import urllib\n",
    "import os\n",
    "import json\n",
    "import requests\n",
    "import wget"
   ]
  },
  {
   "cell_type": "markdown",
   "metadata": {},
   "source": [
    "port_number = 9150"
   ]
  },
  {
   "cell_type": "code",
   "execution_count": 3,
   "metadata": {},
   "outputs": [],
   "source": [
    "base_dir = '/home/arturx/ml/get_shrooms_from_mushroomobserver.org/images/'"
   ]
  },
  {
   "cell_type": "markdown",
   "metadata": {},
   "source": [
    "socks.setdefaultproxy(socks.PROXY_TYPE_SOCKS5, '127.0.0.1', port_number)\n",
    "socket.socket = socks.socksocket"
   ]
  },
  {
   "cell_type": "code",
   "execution_count": 5,
   "metadata": {},
   "outputs": [],
   "source": [
    "urla = 'https://mushroomobserver.org/api/images?content_type=jpg&name=amanita+muscaria&format=json'\n",
    "imagurl='https://mushroomobserver.org/images/orig/627.jpg'\n",
    "base_image_url='https://mushroomobserver.org/images/orig/'\n",
    "base_req_url = 'https://mushroomobserver.org/api/images?content_type=jpg&format=json&include_synonyms=true&name='"
   ]
  },
  {
   "cell_type": "code",
   "execution_count": 6,
   "metadata": {},
   "outputs": [],
   "source": [
    "mushroom_list = ['amanita+muscaria',\n",
    "                'amanita+pantherina',\n",
    "                'boletus+edulis',\n",
    "                'armillaria+mellea',\n",
    "                'boletus+betulicola',\n",
    "                 'boletus+pinicola',\n",
    "                 'cantharellus+cibarius',\n",
    "                 'lactarius+deterrimus',\n",
    "                 'lactarius+deliciosus',\n",
    "                 'leccinum+scabrum',\n",
    "                 'leccinum+melaneum',\n",
    "                 'leccinum+variicolor',\n",
    "                 'leccinum+versipelle',\n",
    "                 'leccinum+vulpinum',\n",
    "                 'russula+aeruginea',\n",
    "                 'russula+claroflava',\n",
    "                 'russula+vesca',\n",
    "                 'russula+xerampelina',\n",
    "                 'suillus+grevillei',\n",
    "                 'suillus+luteus',\n",
    "                 'suillus+granulatus',\n",
    "                 'suillus+flavidus']"
   ]
  },
  {
   "cell_type": "code",
   "execution_count": null,
   "metadata": {},
   "outputs": [],
   "source": []
  },
  {
   "cell_type": "code",
   "execution_count": 7,
   "metadata": {},
   "outputs": [],
   "source": [
    "new_list = ['pluteus+cervinux',\n",
    "           'tricholoma+scalpturatum',\n",
    "           'xerocomellus+chrysenteron',\n",
    "           'mycena+galericulata',\n",
    "           'armillaria+lutea',\n",
    "           'ganoderma+pfeifferi',\n",
    "           'coprinellus+micaceus',\n",
    "           'fomitopsis+pinicola',\n",
    "           'trametes+versicolor',\n",
    "           'fomes+fomentarius',\n",
    "           'psathyrella+candolleana']"
   ]
  },
  {
   "cell_type": "code",
   "execution_count": 8,
   "metadata": {},
   "outputs": [],
   "source": [
    "def fetch_images(mush_name):\n",
    "    res = requests.get(base_req_url+mush_name).json()\n",
    "    return res['results']\n",
    "\n",
    "def get_images_to_folder(folder_name,images_list):\n",
    "    for image_id in images_list:\n",
    "        url = base_image_url+str(image_id)+'.jpg'\n",
    "        file_name = base_dir+folder_name+'/'+str(image_id)+'.jpg'\n",
    "        try:\n",
    "            wget.download(url,file_name)\n",
    "        except:\n",
    "            print(file_name)\n",
    "            print('Some error occured! on {}'.format(folder_name))"
   ]
  },
  {
   "cell_type": "code",
   "execution_count": null,
   "metadata": {},
   "outputs": [],
   "source": [
    "for mush_name in new_list:\n",
    "    try:\n",
    "        os.makedirs(base_dir+mush_name)\n",
    "    except:\n",
    "        print('{} aready exist'.format(mush_name))\n",
    "    images_ids = fetch_images(mush_name)\n",
    "    get_images_to_folder(mush_name,images_ids)"
   ]
  },
  {
   "cell_type": "code",
   "execution_count": null,
   "metadata": {},
   "outputs": [],
   "source": []
  },
  {
   "cell_type": "code",
   "execution_count": null,
   "metadata": {},
   "outputs": [],
   "source": []
  }
 ],
 "metadata": {
  "kernelspec": {
   "display_name": "Python 3",
   "language": "python",
   "name": "python3"
  },
  "language_info": {
   "codemirror_mode": {
    "name": "ipython",
    "version": 3
   },
   "file_extension": ".py",
   "mimetype": "text/x-python",
   "name": "python",
   "nbconvert_exporter": "python",
   "pygments_lexer": "ipython3",
   "version": "3.7.3"
  }
 },
 "nbformat": 4,
 "nbformat_minor": 4
}
